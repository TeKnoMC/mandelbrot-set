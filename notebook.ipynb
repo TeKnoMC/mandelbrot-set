{
    "cells": [
        {
            "cell_type": "markdown",
            "source": [
                "# Mandelbrot Set\n",
                "The mandelbrot set is the set of complex numbers $c$,  for which the recurrence relation\n",
                "\n",
                "$$\n",
                "z_{n+1}=z_n^2+c \\\\\n",
                "z_0=0\n",
                "$$\n",
                "\n",
                "does not diverge.\n",
                "\n",
                "For example, when $c=1$, the sequence is $0, 1, 2, 5, 26, ...$, therefore 1 is not a member of the Mandelbrot set.\n",
                "\n",
                "However, when $c=0.5$, the sequence (rounded) is $0, 0.25, 0.31, 0.35, 0.37, 0.39, 0.40, 0.41, 0.42, ...$ until it eventually converges to 0.50. Therefore, 0.5 is a member of the Mandelbrot set.\n",
                "\n",
                "The Mandelbrot set can be visualised on an Argand diagram, where the shaded region represents the complex numbers that do not diverge under the recurrence relation."
            ],
            "metadata": {}
        },
        {
            "cell_type": "code",
            "execution_count": 26,
            "source": [
                "import numpy as np\n",
                "import matplotlib.pyplot as plt\n",
                "%matplotlib inline\n",
                "\n",
                "def iter_to_diverge(c: complex, threshold: int, steps: int) -> int:\n",
                "    z = 0\n",
                "    for i in range(steps):\n",
                "        z = z*z + c\n",
                "        if abs(z) > threshold:\n",
                "            return i\n",
                "    return -1\n",
                "\n",
                "def generate_2d_arr(n: int, threshold: int, steps: int,\n",
                "                    xmin: float, xmax: float, ymin: float, ymax: float):\n",
                "    img_arr = np.full((n, n), 255)\n",
                "    \n",
                "    map_to_range = lambda x, y: ((x / (n-1)) * (xmax - xmin) + xmin,\n",
                "                                 (y / (n-1)) * (ymax - ymin) + ymin)\n",
                "\n",
                "    for i in range(n):\n",
                "        for j in range(n):\n",
                "            x, y = map_to_range(j, i)\n",
                "            img_arr[i][j] = iter_to_diverge(complex(x, y), threshold, steps)\n",
                "\n",
                "    return img_arr\n",
                "\n",
                "img = generate_2d_arr(n=1000, threshold=4, steps=25, xmin=-2.1, xmax=0.5, ymin=-1.3, ymax=1.3)\n",
                "\n",
                "plt.imshow(img, cmap=\"afmhot\")\n",
                "plt.axis(\"off\")\n",
                "plt.show()"
            ],
            "outputs": [
                {
                    "output_type": "display_data",
                    "data": {
                        "text/plain": [
                            "Canvas(toolbar=Toolbar(toolitems=[('Home', 'Reset original view', 'home', 'home'), ('Back', 'Back to previous …"
                        ],
                        "application/vnd.jupyter.widget-view+json": {
                            "version_major": 2,
                            "version_minor": 0,
                            "model_id": "4e6752d9ce544ea9a20e1c7f6644b735"
                        }
                    },
                    "metadata": {}
                }
            ],
            "metadata": {}
        }
    ],
    "metadata": {
        "orig_nbformat": 4,
        "language_info": {
            "name": "python",
            "version": "3.8.10",
            "mimetype": "text/x-python",
            "codemirror_mode": {
                "name": "ipython",
                "version": 3
            },
            "pygments_lexer": "ipython3",
            "nbconvert_exporter": "python",
            "file_extension": ".py"
        },
        "kernelspec": {
            "name": "python3",
            "display_name": "Python 3.8.10 64-bit"
        },
        "interpreter": {
            "hash": "31f2aee4e71d21fbe5cf8b01ff0e069b9275f58929596ceb00d14d90e3e16cd6"
        }
    },
    "nbformat": 4,
    "nbformat_minor": 2
}